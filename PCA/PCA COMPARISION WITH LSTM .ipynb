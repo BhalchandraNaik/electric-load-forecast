{
 "cells": [
  {
   "cell_type": "markdown",
   "metadata": {},
   "source": [
    "# Autoencoder\n",
    "\n",
    "This is a 4 layers Autoencoder(2 encoder + 2 decoder) for performing dimensionality reduction on the GEFCOM-2014 load forecasting data"
   ]
  },
  {
   "cell_type": "code",
   "execution_count": 1,
   "metadata": {},
   "outputs": [],
   "source": [
    "import numpy as np\n",
    "import pandas as pd\n",
    "from datetime import date, timedelta, datetime\n",
    "import os\n",
    "import pickle\n",
    "from tqdm import tqdm\n",
    "import torch\n",
    "import matplotlib.pyplot as plt\n",
    "import torch.nn as nn\n",
    "from torch.autograd import Variable\n",
    "from matplotlib.pyplot import figure"
   ]
  },
  {
   "cell_type": "markdown",
   "metadata": {},
   "source": [
    "# Data Preprocessing & Staging"
   ]
  },
  {
   "cell_type": "code",
   "execution_count": 2,
   "metadata": {},
   "outputs": [],
   "source": [
    "def get_data(file_name):\n",
    "    data = pd.read_csv(file_name)\n",
    "    data = data.to_numpy()\n",
    "    for i in range(data.shape[0]):\n",
    "        data[i, 1] = datetime.strptime(data[i, 1], \"%m%d%Y %H:%M\").date()\n",
    "    power = data[:, 2].astype(np.float64)\n",
    "    indexes = np.isnan(power)\n",
    "    cleaned_data = data[~indexes, :]\n",
    "    return cleaned_data\n",
    "\n",
    "def embed_data(lead_time, embed_dim, from_date, to_date, data, t_idx, dt_idx):\n",
    "    start = np.where(data[:, dt_idx] == from_date)[0][0]\n",
    "    end = np.where(data[:, dt_idx] == to_date)[0][-1]\n",
    "    X, y = [], []\n",
    "    for idx in range(start, end+1):\n",
    "        xx = data[idx-(embed_dim+lead_time-1):idx-lead_time+1, 3:]\n",
    "        yy = data[idx, 2]\n",
    "        X.append(xx)\n",
    "        y.append(yy)\n",
    "    return np.array(X), np.array(y)\n",
    "\n",
    "def get_data_between_time(data, from_date, to_date, dt_idx):\n",
    "    start = np.where(data[:, dt_idx] == from_date)[0][0]\n",
    "    end = np.where(data[:, dt_idx] == to_date)[0][-1]\n",
    "    return data[start:(end+1), :]\n",
    "\n",
    "\n",
    "def normalize(data):\n",
    "    for i in range(2, data.shape[1]):\n",
    "        data[:, i] = (data[:, i] - np.mean(data[:, i]))/np.std(data[:, i])\n",
    "    return data"
   ]
  },
  {
   "cell_type": "code",
   "execution_count": 49,
   "metadata": {},
   "outputs": [],
   "source": [
    "from sklearn.decomposition import PCA\n",
    "data = get_data('../Dataa/Task 1/L1-train.csv')\n",
    "data = normalize(data)\n",
    "dataactual=data[:,3:]"
   ]
  },
  {
   "cell_type": "code",
   "execution_count": 50,
   "metadata": {},
   "outputs": [
    {
     "name": "stdout",
     "output_type": "stream",
     "text": [
      "(50376, 25)\n"
     ]
    }
   ],
   "source": [
    "print(dataactual.shape)"
   ]
  },
  {
   "cell_type": "code",
   "execution_count": 51,
   "metadata": {},
   "outputs": [
    {
     "name": "stdout",
     "output_type": "stream",
     "text": [
      "[[-1.0682467564243037 -0.9319257986324055 -0.9618264508933926 ...\n",
      "  -0.8900772206990581 -0.8460325215149895 -0.9108400548369758]\n",
      " [-1.1831429734183943 -0.9319257986324055 -1.0832982359183199 ...\n",
      "  -0.8900772206990581 -0.8460325215149895 -0.9108400548369758]\n",
      " [-1.2405910819154395 -0.9319257986324055 -1.1440341284307833 ...\n",
      "  -0.9475564729698909 -0.9038780725289747 -1.0265962403074795]\n",
      " ...\n",
      " [0.7126446069841011 0.47318180138723054 0.3136272918683433 ...\n",
      "  0.48942483380092805 0.4844151518066707 0.5361122635443207]\n",
      " [0.6551964984870559 0.47318180138723054 0.3136272918683433 ...\n",
      "  0.5469040860717608 0.6001062538346411 0.5361122635443207]\n",
      " [0.5403002814929652 0.47318180138723054 0.3743631843808069 ...\n",
      "  0.5469040860717608 0.36872404977870027 0.4782341708090689]]\n"
     ]
    }
   ],
   "source": [
    "print(dataactual)"
   ]
  },
  {
   "cell_type": "code",
   "execution_count": 55,
   "metadata": {},
   "outputs": [],
   "source": [
    "pcaa = PCA(n_components=10)\n",
    "principalComponents = pcaa.fit_transform(dataactual)\n",
    "principalDf = pd.DataFrame(data = principalComponents\n",
    "             , columns = ['1','2','3','4','5','6','7','8','9','10'])\n",
    "pdf=principalDf.to_numpy()\n",
    "result = np.hstack(( np.atleast_2d(data[:,2]).T,pdf)) \n",
    "result = np.hstack(( np.atleast_2d(data[:,1]).T,result)) \n",
    "result = np.hstack((np.atleast_2d(data[:,0]).T,result)) \n"
   ]
  },
  {
   "cell_type": "code",
   "execution_count": 56,
   "metadata": {},
   "outputs": [
    {
     "name": "stdout",
     "output_type": "stream",
     "text": [
      "0\n",
      "50375\n"
     ]
    },
    {
     "data": {
      "text/html": [
       "<div>\n",
       "<style scoped>\n",
       "    .dataframe tbody tr th:only-of-type {\n",
       "        vertical-align: middle;\n",
       "    }\n",
       "\n",
       "    .dataframe tbody tr th {\n",
       "        vertical-align: top;\n",
       "    }\n",
       "\n",
       "    .dataframe thead th {\n",
       "        text-align: right;\n",
       "    }\n",
       "</style>\n",
       "<table border=\"1\" class=\"dataframe\">\n",
       "  <thead>\n",
       "    <tr style=\"text-align: right;\">\n",
       "      <th></th>\n",
       "      <th>1</th>\n",
       "      <th>2</th>\n",
       "      <th>3</th>\n",
       "      <th>4</th>\n",
       "      <th>5</th>\n",
       "      <th>6</th>\n",
       "      <th>7</th>\n",
       "      <th>8</th>\n",
       "      <th>9</th>\n",
       "      <th>10</th>\n",
       "    </tr>\n",
       "  </thead>\n",
       "  <tbody>\n",
       "    <tr>\n",
       "      <th>0</th>\n",
       "      <td>4.566602</td>\n",
       "      <td>-0.093160</td>\n",
       "      <td>-0.343859</td>\n",
       "      <td>0.067665</td>\n",
       "      <td>0.029243</td>\n",
       "      <td>-0.442420</td>\n",
       "      <td>0.018236</td>\n",
       "      <td>-0.174663</td>\n",
       "      <td>0.151819</td>\n",
       "      <td>-0.126880</td>\n",
       "    </tr>\n",
       "    <tr>\n",
       "      <th>1</th>\n",
       "      <td>4.628722</td>\n",
       "      <td>0.004835</td>\n",
       "      <td>-0.272167</td>\n",
       "      <td>-0.098046</td>\n",
       "      <td>-0.011761</td>\n",
       "      <td>-0.315610</td>\n",
       "      <td>0.197051</td>\n",
       "      <td>-0.174687</td>\n",
       "      <td>0.036394</td>\n",
       "      <td>-0.023859</td>\n",
       "    </tr>\n",
       "    <tr>\n",
       "      <th>2</th>\n",
       "      <td>4.910206</td>\n",
       "      <td>-0.049068</td>\n",
       "      <td>-0.450476</td>\n",
       "      <td>-0.149179</td>\n",
       "      <td>0.039220</td>\n",
       "      <td>-0.252723</td>\n",
       "      <td>0.211010</td>\n",
       "      <td>-0.124321</td>\n",
       "      <td>-0.062594</td>\n",
       "      <td>0.070434</td>\n",
       "    </tr>\n",
       "    <tr>\n",
       "      <th>3</th>\n",
       "      <td>4.861920</td>\n",
       "      <td>-0.102269</td>\n",
       "      <td>-0.307686</td>\n",
       "      <td>-0.155568</td>\n",
       "      <td>-0.060778</td>\n",
       "      <td>-0.309647</td>\n",
       "      <td>0.221295</td>\n",
       "      <td>-0.045340</td>\n",
       "      <td>0.180990</td>\n",
       "      <td>0.097413</td>\n",
       "    </tr>\n",
       "    <tr>\n",
       "      <th>4</th>\n",
       "      <td>4.996918</td>\n",
       "      <td>-0.095231</td>\n",
       "      <td>-0.381688</td>\n",
       "      <td>-0.262827</td>\n",
       "      <td>0.008140</td>\n",
       "      <td>-0.278533</td>\n",
       "      <td>0.167702</td>\n",
       "      <td>-0.081630</td>\n",
       "      <td>0.199273</td>\n",
       "      <td>0.091227</td>\n",
       "    </tr>\n",
       "  </tbody>\n",
       "</table>\n",
       "</div>"
      ],
      "text/plain": [
       "          1         2         3         4         5         6         7  \\\n",
       "0  4.566602 -0.093160 -0.343859  0.067665  0.029243 -0.442420  0.018236   \n",
       "1  4.628722  0.004835 -0.272167 -0.098046 -0.011761 -0.315610  0.197051   \n",
       "2  4.910206 -0.049068 -0.450476 -0.149179  0.039220 -0.252723  0.211010   \n",
       "3  4.861920 -0.102269 -0.307686 -0.155568 -0.060778 -0.309647  0.221295   \n",
       "4  4.996918 -0.095231 -0.381688 -0.262827  0.008140 -0.278533  0.167702   \n",
       "\n",
       "          8         9        10  \n",
       "0 -0.174663  0.151819 -0.126880  \n",
       "1 -0.174687  0.036394 -0.023859  \n",
       "2 -0.124321 -0.062594  0.070434  \n",
       "3 -0.045340  0.180990  0.097413  \n",
       "4 -0.081630  0.199273  0.091227  "
      ]
     },
     "execution_count": 56,
     "metadata": {},
     "output_type": "execute_result"
    }
   ],
   "source": [
    "print(principalDf.index[0])\n",
    "print(principalDf.index[-1])\n",
    "principalDf.head()"
   ]
  },
  {
   "cell_type": "code",
   "execution_count": 57,
   "metadata": {},
   "outputs": [
    {
     "name": "stdout",
     "output_type": "stream",
     "text": [
      "(50376, 13)\n",
      "[[1 datetime.date(2005, 1, 1) -0.4252401471841657 ...\n",
      "  -0.17466340257377716 0.15181939416924545 -0.12688010056566054]\n",
      " [1 datetime.date(2005, 1, 1) -0.5109688790207725 ...\n",
      "  -0.17468743781775703 0.03639439868870091 -0.023858938180635437]\n",
      " [1 datetime.date(2005, 1, 1) -0.6138433572247005 ...\n",
      "  -0.12432091681162749 -0.06259422904717793 0.07043385557728205]\n",
      " ...\n",
      " [1 datetime.date(2010, 9, 30) 0.2177253415903853 ...\n",
      "  -0.010984092620579573 -0.16075311855581184 0.1178053653482231]\n",
      " [1 datetime.date(2010, 9, 30) -0.03946085391943498 ...\n",
      "  0.08605060434295038 -0.23467152825507911 0.04040907201163119]\n",
      " [1 datetime.date(2010, 10, 1) -0.33093854216389845 ...\n",
      "  -0.06301255846719225 -0.20934241515206659 -0.027374703059433236]]\n"
     ]
    }
   ],
   "source": [
    "print(result.shape)\n",
    "print(result)\n"
   ]
  },
  {
   "cell_type": "code",
   "execution_count": 74,
   "metadata": {},
   "outputs": [],
   "source": [
    "embedded_data_pca, target_pca = embed_data(\n",
    "    lead_time = 6,\n",
    "    embed_dim = 12,\n",
    "    from_date = date(month=2, year=2006, day=1),\n",
    "    to_date = date(month=4, year=2006, day=30),\n",
    "    data = result,\n",
    "    t_idx = 2,\n",
    "    dt_idx = 1\n",
    ")"
   ]
  },
  {
   "cell_type": "code",
   "execution_count": 79,
   "metadata": {},
   "outputs": [],
   "source": [
    "embedded_data_original, target_original = embed_data(\n",
    "    lead_time = 6,\n",
    "    embed_dim = 12,\n",
    "    from_date = date(month=2, year=2006, day=1),\n",
    "    to_date = date(month=4, year=2006, day=30),\n",
    "    data = data,\n",
    "    t_idx = 2,\n",
    "    dt_idx = 1\n",
    ")"
   ]
  },
  {
   "cell_type": "code",
   "execution_count": 69,
   "metadata": {},
   "outputs": [],
   "source": [
    "# torch.save(autoencoder.state_dict(), './data/autoencoder_params')\n",
    "\n",
    "# new_autoencoder = Autoencoder(\n",
    "#     input_size = 25,\n",
    "#     down_size = 15\n",
    "# )\n",
    "\n",
    "# new_autoencoder.load_state_dict(torch.load('./data/autoencoder_params'))"
   ]
  },
  {
   "cell_type": "code",
   "execution_count": 68,
   "metadata": {},
   "outputs": [
    {
     "data": {
      "image/png": "[encoded data removed]",
      "text/plain": [
       "<Figure size 432x288 with 1 Axes>"
      ]
     },
     "metadata": {
      "needs_background": "light"
     },
     "output_type": "display_data"
    }
   ],
   "source": [
    "plt.plot(losses)\n",
    "plt.xlabel('Steps')\n",
    "plt.ylabel('Loss')\n",
    "plt.title('Autoencoder Loss')\n",
    "plt.show()"
   ]
  },
  {
   "cell_type": "markdown",
   "metadata": {},
   "source": [
    "## New Reduced Data"
   ]
  },
  {
   "cell_type": "code",
   "execution_count": 4,
   "metadata": {},
   "outputs": [
    {
     "ename": "NameError",
     "evalue": "name 'autoencoder' is not defined",
     "output_type": "error",
     "traceback": [
      "\u001b[0;31m---------------------------------------------------------------------------\u001b[0m",
      "\u001b[0;31mNameError\u001b[0m                                 Traceback (most recent call last)",
      "\u001b[0;32m<ipython-input-4-24dff42619ec>\u001b[0m in \u001b[0;36m<module>\u001b[0;34m\u001b[0m\n\u001b[1;32m      1\u001b[0m \u001b[0mdataTensor\u001b[0m \u001b[0;34m=\u001b[0m \u001b[0mVariable\u001b[0m\u001b[0;34m(\u001b[0m\u001b[0mtorch\u001b[0m\u001b[0;34m.\u001b[0m\u001b[0mfrom_numpy\u001b[0m\u001b[0;34m(\u001b[0m\u001b[0mdata\u001b[0m\u001b[0;34m[\u001b[0m\u001b[0;34m:\u001b[0m\u001b[0;34m,\u001b[0m \u001b[0;36m3\u001b[0m\u001b[0;34m:\u001b[0m\u001b[0;34m]\u001b[0m\u001b[0;34m.\u001b[0m\u001b[0mastype\u001b[0m\u001b[0;34m(\u001b[0m\u001b[0mnp\u001b[0m\u001b[0;34m.\u001b[0m\u001b[0mfloat32\u001b[0m\u001b[0;34m)\u001b[0m\u001b[0;34m)\u001b[0m\u001b[0;34m)\u001b[0m\u001b[0;34m\u001b[0m\u001b[0;34m\u001b[0m\u001b[0m\n\u001b[0;32m----> 2\u001b[0;31m \u001b[0mencoded_data_without_date\u001b[0m \u001b[0;34m=\u001b[0m \u001b[0mautoencoder\u001b[0m\u001b[0;34m.\u001b[0m\u001b[0mforward\u001b[0m\u001b[0;34m(\u001b[0m\u001b[0mdataTensor\u001b[0m\u001b[0;34m,\u001b[0m \u001b[0mdecode\u001b[0m\u001b[0;34m=\u001b[0m\u001b[0;32mFalse\u001b[0m\u001b[0;34m,\u001b[0m \u001b[0mno_act\u001b[0m\u001b[0;34m=\u001b[0m\u001b[0;32mTrue\u001b[0m\u001b[0;34m)\u001b[0m\u001b[0;34m.\u001b[0m\u001b[0mdetach\u001b[0m\u001b[0;34m(\u001b[0m\u001b[0;34m)\u001b[0m\u001b[0;34m.\u001b[0m\u001b[0mnumpy\u001b[0m\u001b[0;34m(\u001b[0m\u001b[0;34m)\u001b[0m\u001b[0;34m\u001b[0m\u001b[0;34m\u001b[0m\u001b[0m\n\u001b[0m\u001b[1;32m      3\u001b[0m \u001b[0mencoded_data\u001b[0m \u001b[0;34m=\u001b[0m \u001b[0mnp\u001b[0m\u001b[0;34m.\u001b[0m\u001b[0mconcatenate\u001b[0m\u001b[0;34m(\u001b[0m\u001b[0;34m(\u001b[0m\u001b[0mdata\u001b[0m\u001b[0;34m[\u001b[0m\u001b[0;34m:\u001b[0m\u001b[0;34m,\u001b[0m \u001b[0;34m:\u001b[0m\u001b[0;36m3\u001b[0m\u001b[0;34m]\u001b[0m\u001b[0;34m,\u001b[0m \u001b[0mencoded_data_without_date\u001b[0m\u001b[0;34m)\u001b[0m\u001b[0;34m,\u001b[0m \u001b[0maxis\u001b[0m\u001b[0;34m=\u001b[0m\u001b[0;36m1\u001b[0m\u001b[0;34m)\u001b[0m\u001b[0;34m\u001b[0m\u001b[0;34m\u001b[0m\u001b[0m\n\u001b[1;32m      4\u001b[0m embedded_encoded_data, target = embed_data(\n\u001b[1;32m      5\u001b[0m     \u001b[0mlead_time\u001b[0m \u001b[0;34m=\u001b[0m \u001b[0;36m6\u001b[0m\u001b[0;34m,\u001b[0m\u001b[0;34m\u001b[0m\u001b[0;34m\u001b[0m\u001b[0m\n",
      "\u001b[0;31mNameError\u001b[0m: name 'autoencoder' is not defined"
     ]
    }
   ],
   "source": [
    "dataTensor = Variable(torch.from_numpy(data[:, 3:].astype(np.float32)))\n",
    "encoded_data_without_date = autoencoder.forward(dataTensor, decode=False, no_act=True).detach().numpy()\n",
    "encoded_data = np.concatenate((data[:, :3], encoded_data_without_date), axis=1)\n",
    "embedded_encoded_data, target = embed_data(\n",
    "    lead_time = 6,\n",
    "    embed_dim = 12,\n",
    "    from_date = date(month=1, year=2006, day=1),\n",
    "    to_date = date(month=3, year=2006, day=31),\n",
    "    data = encoded_data,\n",
    "    t_idx = 2,\n",
    "    dt_idx = 1\n",
    ")"
   ]
  },
  {
   "cell_type": "markdown",
   "metadata": {},
   "source": [
    "# LSTM for forecasting"
   ]
  },
  {
   "cell_type": "code",
   "execution_count": 174,
   "metadata": {},
   "outputs": [],
   "source": [
    "class QuantileRegression(nn.Module):\n",
    "    def __init__(self, input_size, output_size, hidden_size, num_layers, seq_length):\n",
    "        super().__init__()\n",
    "        self.input_size = input_size\n",
    "        self.output_size = output_size\n",
    "        self.hidden_size = hidden_size\n",
    "        self.seq_length = seq_length\n",
    "        self.num_layers = num_layers\n",
    "        \n",
    "        self.lstm = nn.LSTM(input_size=input_size, \n",
    "                            hidden_size=hidden_size,\n",
    "                            num_layers=num_layers, \n",
    "                            batch_first=True)\n",
    "        \n",
    "        self.fc = nn.Linear(hidden_size, 10)\n",
    "        self.fc_out = nn.Linear(10, output_size)\n",
    "        \n",
    "    def forward(self, x):\n",
    "        h_0 = Variable(torch.zeros(\n",
    "            self.num_layers, x.size(0), self.hidden_size))\n",
    "        \n",
    "        c_0 = Variable(torch.zeros(\n",
    "            self.num_layers, x.size(0), self.hidden_size))\n",
    "        \n",
    "        batch_size = x.size(0)\n",
    "        # Propagate input through LSTM\n",
    "        ula, (h_out, _) = self.lstm(x, (h_0, c_0))\n",
    "        h_out = h_out.view(batch_size*self.num_layers, self.hidden_size)\n",
    "#         print(ula.size(), h_out.size())\n",
    "#         h_out = h_out.view(-1, self.hidden_size)\n",
    "        \n",
    "#         ula = ula.contiguous().view(x.size(0),-1)\n",
    "        \n",
    "        fc1 = self.fc(h_out)\n",
    "        out = self.fc_out(fc1)\n",
    "        \n",
    "        return out\n",
    "    \n",
    "    def train_model(self, trainX, trainY, lr, epochs, sample_size):\n",
    "        learning_rate = lr\n",
    "        optimizer = torch.optim.Adam(self.parameters(), lr=learning_rate)\n",
    "        losses = []\n",
    "        num_epochs = epochs\n",
    "        \n",
    "        for epoch in range(num_epochs):  \n",
    "            indices = torch.randperm(trainX.size()[0])\n",
    "            trainX, trainY = trainX[indices, :, :], trainY[indices]\n",
    "            for i in range(0, trainX.size()[0], sample_size):\n",
    "                xx = trainX[i: i + sample_size, :, :]\n",
    "                yy = trainY[i: i + sample_size]\n",
    "                outputs = self.forward(xx)\n",
    "                outputs = outputs.view(self.num_layers, self.output_size, -1)\n",
    "                optimizer.zero_grad()\n",
    "                alpha = 0.1\n",
    "                # obtain the loss function\n",
    "                loss = self.quantile_loss(outputs[-1, :, :], yy, alpha)\n",
    "                losses.append(loss.item())\n",
    "                loss.backward()\n",
    "\n",
    "                optimizer.step()\n",
    "            print(\"Epoch: %d, loss: %1.5f\" % (epoch, loss.item()))\n",
    "            \n",
    "        return losses\n",
    "    \n",
    "    def train_sgd(self, trainX, trainY, lr, epochs, sample_size):\n",
    "        learning_rate = lr\n",
    "        optimizer = torch.optim.Adam(self.parameters(), lr=learning_rate)\n",
    "        losses = []\n",
    "        num_epochs = epochs\n",
    "        for epoch in range(num_epochs):\n",
    "            for xx, yy in zip(trainX, trainY):\n",
    "                xx = xx.view(1, self.seq_length, self.input_size)\n",
    "                outputs = self.forward(xx)\n",
    "                optimizer.zero_grad()\n",
    "\n",
    "                # obtain the loss function\n",
    "                loss = self.quantile_loss(outputs, yy, alpha=0.1)\n",
    "                losses.append(loss)\n",
    "                loss.backward()\n",
    "\n",
    "                optimizer.step()\n",
    "            print(\"Epoch: %d, loss: %1.5f\" % (epoch, loss.item()))\n",
    "        return losses\n",
    "    \n",
    "    def quantile_loss(self, output, target, alpha = 0.1):\n",
    "        covered_flag = (output <= target).float()\n",
    "        uncovered_flag = (output > target).float()\n",
    "        return torch.mean((target - output)*(alpha)*covered_flag + (output-target)*(1-alpha)*uncovered_flag)"
   ]
  },
  {
   "cell_type": "code",
   "execution_count": 175,
   "metadata": {},
   "outputs": [
    {
     "name": "stdout",
     "output_type": "stream",
     "text": [
      "Epoch: 0, loss: 0.07024\n",
      "Epoch: 1, loss: 0.08055\n",
      "Epoch: 2, loss: 0.08033\n",
      "Epoch: 3, loss: 0.06548\n",
      "Epoch: 4, loss: 0.05969\n",
      "Epoch: 5, loss: 0.04793\n",
      "Epoch: 6, loss: 0.05669\n",
      "Epoch: 7, loss: 0.04734\n",
      "Epoch: 8, loss: 0.04506\n",
      "Epoch: 9, loss: 0.04397\n",
      "Epoch: 10, loss: 0.05537\n",
      "Epoch: 11, loss: 0.04216\n",
      "Epoch: 12, loss: 0.04154\n",
      "Epoch: 13, loss: 0.05590\n",
      "Epoch: 14, loss: 0.04795\n",
      "Epoch: 15, loss: 0.05201\n",
      "Epoch: 16, loss: 0.04290\n",
      "Epoch: 17, loss: 0.02780\n",
      "Epoch: 18, loss: 0.05297\n",
      "Epoch: 19, loss: 0.04144\n",
      "Epoch: 20, loss: 0.03706\n",
      "Epoch: 21, loss: 0.03277\n",
      "Epoch: 22, loss: 0.04838\n",
      "Epoch: 23, loss: 0.03509\n",
      "Epoch: 24, loss: 0.03992\n",
      "Epoch: 25, loss: 0.03495\n",
      "Epoch: 26, loss: 0.04340\n",
      "Epoch: 27, loss: 0.02282\n",
      "Epoch: 28, loss: 0.04316\n",
      "Epoch: 29, loss: 0.03036\n",
      "Epoch: 30, loss: 0.02681\n",
      "Epoch: 31, loss: 0.03261\n",
      "Epoch: 32, loss: 0.02879\n",
      "Epoch: 33, loss: 0.02570\n",
      "Epoch: 34, loss: 0.03046\n",
      "Epoch: 35, loss: 0.02889\n",
      "Epoch: 36, loss: 0.03090\n",
      "Epoch: 37, loss: 0.03523\n",
      "Epoch: 38, loss: 0.03010\n",
      "Epoch: 39, loss: 0.02723\n"
     ]
    }
   ],
   "source": [
    "regressor_pca = QuantileRegression(\n",
    "    input_size = 10,\n",
    "    hidden_size = 40,\n",
    "    output_size = 1,\n",
    "    num_layers = 1,\n",
    "    seq_length = 12\n",
    ")\n",
    "\n",
    "train_x_pca = embedded_data_pca.astype(np.float32)\n",
    "train_y_pca = target_pca.astype(np.float32)\n",
    "\n",
    "\n",
    "\n",
    "trainX_pca = Variable(torch.from_numpy(train_x_pca))\n",
    "trainY_pca = Variable(torch.from_numpy(train_y_pca))\n",
    "\n",
    "losses_pca = regressor_pca.train_model(\n",
    "    trainX = trainX_pca,\n",
    "    trainY = trainY_pca,\n",
    "    lr = 0.005,\n",
    "    epochs = 40,\n",
    "    sample_size = 50\n",
    ")"
   ]
  },
  {
   "cell_type": "code",
   "execution_count": 176,
   "metadata": {},
   "outputs": [
    {
     "name": "stdout",
     "output_type": "stream",
     "text": [
      "Epoch: 0, loss: 0.07941\n",
      "Epoch: 1, loss: 0.07723\n",
      "Epoch: 2, loss: 0.06447\n",
      "Epoch: 3, loss: 0.07276\n",
      "Epoch: 4, loss: 0.06823\n",
      "Epoch: 5, loss: 0.06510\n",
      "Epoch: 6, loss: 0.06061\n",
      "Epoch: 7, loss: 0.05573\n",
      "Epoch: 8, loss: 0.06115\n",
      "Epoch: 9, loss: 0.05808\n",
      "Epoch: 10, loss: 0.06840\n",
      "Epoch: 11, loss: 0.05669\n",
      "Epoch: 12, loss: 0.05826\n",
      "Epoch: 13, loss: 0.05620\n",
      "Epoch: 14, loss: 0.05622\n",
      "Epoch: 15, loss: 0.05999\n",
      "Epoch: 16, loss: 0.05759\n",
      "Epoch: 17, loss: 0.06912\n",
      "Epoch: 18, loss: 0.05695\n",
      "Epoch: 19, loss: 0.05720\n",
      "Epoch: 20, loss: 0.05469\n",
      "Epoch: 21, loss: 0.04773\n",
      "Epoch: 22, loss: 0.04257\n",
      "Epoch: 23, loss: 0.04181\n",
      "Epoch: 24, loss: 0.03924\n",
      "Epoch: 25, loss: 0.05147\n",
      "Epoch: 26, loss: 0.04301\n",
      "Epoch: 27, loss: 0.06202\n",
      "Epoch: 28, loss: 0.04620\n",
      "Epoch: 29, loss: 0.04648\n",
      "Epoch: 30, loss: 0.03612\n",
      "Epoch: 31, loss: 0.04501\n",
      "Epoch: 32, loss: 0.03789\n",
      "Epoch: 33, loss: 0.04524\n",
      "Epoch: 34, loss: 0.03014\n",
      "Epoch: 35, loss: 0.03917\n",
      "Epoch: 36, loss: 0.03988\n",
      "Epoch: 37, loss: 0.03442\n",
      "Epoch: 38, loss: 0.04488\n",
      "Epoch: 39, loss: 0.04769\n"
     ]
    }
   ],
   "source": [
    "regressor = QuantileRegression(\n",
    "    input_size = 25,\n",
    "    hidden_size = 40,\n",
    "    output_size = 1,\n",
    "    num_layers = 1,\n",
    "    seq_length = 12\n",
    ")\n",
    "\n",
    "train_x = embedded_data_original.astype(np.float32)\n",
    "train_y = target_original.astype(np.float32)\n",
    "\n",
    "\n",
    "\n",
    "trainX = Variable(torch.from_numpy(train_x))\n",
    "trainY = Variable(torch.from_numpy(train_y))\n",
    "\n",
    "losses = regressor.train_model(\n",
    "    trainX = trainX,\n",
    "    trainY = trainY,\n",
    "    lr = 0.005,\n",
    "    epochs = 40,\n",
    "    sample_size = 50\n",
    ")"
   ]
  },
  {
   "cell_type": "code",
   "execution_count": 177,
   "metadata": {},
   "outputs": [],
   "source": [
    "embedded_encoded_datax, targetx = embed_data(\n",
    "    lead_time = 6,\n",
    "    embed_dim = 12,\n",
    "    from_date = date(month=5, year=2006, day=1),\n",
    "    to_date = date(month=5, year=2006, day=31),\n",
    "    data = result,\n",
    "    t_idx = 2,\n",
    "    dt_idx = 1\n",
    ")"
   ]
  },
  {
   "cell_type": "code",
   "execution_count": 178,
   "metadata": {},
   "outputs": [],
   "source": [
    "embedded_encoded_data_originalx, target_originalx = embed_data(\n",
    "    lead_time = 6,\n",
    "    embed_dim = 12,\n",
    "    from_date = date(month=5, year=2006, day=1),\n",
    "    to_date = date(month=5, year=2006, day=31),\n",
    "    data = data,\n",
    "    t_idx = 2,\n",
    "    dt_idx = 1\n",
    ")"
   ]
  },
  {
   "cell_type": "code",
   "execution_count": 179,
   "metadata": {},
   "outputs": [],
   "source": [
    "test_x_pca = embedded_encoded_datax.astype(np.float32)\n",
    "test_y_pca = targetx.astype(np.float32)"
   ]
  },
  {
   "cell_type": "code",
   "execution_count": 180,
   "metadata": {},
   "outputs": [],
   "source": [
    "test_x = embedded_encoded_data_originalx.astype(np.float32)\n",
    "test_y = target_originalx.astype(np.float32)"
   ]
  },
  {
   "cell_type": "code",
   "execution_count": 181,
   "metadata": {},
   "outputs": [],
   "source": [
    "def quantile_loss_numpy(output, target, alpha):\n",
    "    covered_flag = (output <= target).astype(np.float32)\n",
    "    uncovered_flag = (output > target).astype(np.float32)\n",
    "    return np.mean((target - output)*(alpha)*covered_flag + (output-target)*(1-alpha)*uncovered_flag)"
   ]
  },
  {
   "cell_type": "code",
   "execution_count": 182,
   "metadata": {},
   "outputs": [],
   "source": [
    "def quantile_loss(output, target, alpha = 0.5):\n",
    "        covered_flag = (output <= target).float()\n",
    "        uncovered_flag = (output > target).float()\n",
    "        return torch.mean((target - output)*(alpha)*covered_flag + (output-target)*(1-alpha)*uncovered_flag)"
   ]
  },
  {
   "cell_type": "code",
   "execution_count": 183,
   "metadata": {},
   "outputs": [],
   "source": [
    "regressor_pca.eval()\n",
    "testX_pca = Variable(torch.from_numpy(test_x_pca))\n",
    "testY_pca = Variable(torch.from_numpy(test_y_pca))\n",
    "test_predict_pca = regressor_pca(testX_pca)\n",
    "data_predict_pca = test_predict_pca.data.numpy()\n",
    "testY_numpy_pca=testY_pca.data.numpy()"
   ]
  },
  {
   "cell_type": "code",
   "execution_count": 184,
   "metadata": {},
   "outputs": [],
   "source": [
    "regressor.eval()\n",
    "testX = Variable(torch.from_numpy(test_x))\n",
    "testY = Variable(torch.from_numpy(test_y))\n",
    "test_predict=regressor(testX)\n",
    "data_predict=test_predict.data.numpy()\n",
    "testY_numpy=testY.data.numpy()"
   ]
  },
  {
   "cell_type": "code",
   "execution_count": 185,
   "metadata": {},
   "outputs": [
    {
     "data": {
      "text/plain": [
       "0.15545544"
      ]
     },
     "execution_count": 185,
     "metadata": {},
     "output_type": "execute_result"
    }
   ],
   "source": [
    "quantile_loss_numpy(data_predict_pca,testY_numpy_pca,0.1)"
   ]
  },
  {
   "cell_type": "code",
   "execution_count": 186,
   "metadata": {},
   "outputs": [
    {
     "data": {
      "text/plain": [
       "0.13114303"
      ]
     },
     "execution_count": 186,
     "metadata": {},
     "output_type": "execute_result"
    }
   ],
   "source": [
    "quantile_loss_numpy(data_predict,testY_numpy,0.1)"
   ]
  },
  {
   "cell_type": "code",
   "execution_count": 141,
   "metadata": {},
   "outputs": [
    {
     "data": {
      "text/plain": [
       "tensor(0.2628, grad_fn=<MeanBackward1>)"
      ]
     },
     "execution_count": 141,
     "metadata": {},
     "output_type": "execute_result"
    }
   ],
   "source": [
    "quantile_loss(testY,test_predict,0.4)"
   ]
  },
  {
   "cell_type": "code",
   "execution_count": 142,
   "metadata": {},
   "outputs": [
    {
     "data": {
      "text/plain": [
       "tensor(0.2706, grad_fn=<MeanBackward1>)"
      ]
     },
     "execution_count": 142,
     "metadata": {},
     "output_type": "execute_result"
    }
   ],
   "source": [
    "quantile_loss(testY_pca,test_predict_pca,0.4)"
   ]
  },
  {
   "cell_type": "code",
   "execution_count": 117,
   "metadata": {},
   "outputs": [
    {
     "name": "stdout",
     "output_type": "stream",
     "text": [
      "torch.Size([744])\n"
     ]
    }
   ],
   "source": [
    "print(testY_pca.shape)"
   ]
  },
  {
   "cell_type": "code",
   "execution_count": 113,
   "metadata": {},
   "outputs": [
    {
     "name": "stdout",
     "output_type": "stream",
     "text": [
      "torch.Size([744])\n"
     ]
    }
   ],
   "source": [
    "print(testY.shape)"
   ]
  },
  {
   "cell_type": "code",
   "execution_count": 120,
   "metadata": {},
   "outputs": [
    {
     "name": "stdout",
     "output_type": "stream",
     "text": [
      "(50376, 28)\n"
     ]
    }
   ],
   "source": [
    "print(data.shape\n",
    "     )"
   ]
  },
  {
   "cell_type": "code",
   "execution_count": 121,
   "metadata": {},
   "outputs": [
    {
     "name": "stdout",
     "output_type": "stream",
     "text": [
      "(50376, 13)\n"
     ]
    }
   ],
   "source": [
    "print(result.shape)"
   ]
  },
  {
   "cell_type": "code",
   "execution_count": 122,
   "metadata": {},
   "outputs": [
    {
     "name": "stdout",
     "output_type": "stream",
     "text": [
      "(2136, 12, 25) (2136, 12, 10)\n"
     ]
    }
   ],
   "source": [
    "print(train_x.shape,train_x_pca.shape)"
   ]
  },
  {
   "cell_type": "code",
   "execution_count": 123,
   "metadata": {},
   "outputs": [
    {
     "name": "stdout",
     "output_type": "stream",
     "text": [
      "(744, 12, 25) (744, 12, 10)\n"
     ]
    }
   ],
   "source": [
    "print(test_x.shape,test_x_pca.shape)"
   ]
  },
  {
   "cell_type": "code",
   "execution_count": 125,
   "metadata": {},
   "outputs": [
    {
     "name": "stdout",
     "output_type": "stream",
     "text": [
      "torch.Size([744, 1]) torch.Size([744, 1])\n"
     ]
    }
   ],
   "source": [
    "print(test_predict.shape,test_predict_pca.shape)"
   ]
  },
  {
   "cell_type": "code",
   "execution_count": 126,
   "metadata": {},
   "outputs": [
    {
     "name": "stdout",
     "output_type": "stream",
     "text": [
      "(2136,) (2136,)\n"
     ]
    }
   ],
   "source": [
    "print(train_y.shape,train_y_pca.shape)"
   ]
  },
  {
   "cell_type": "code",
   "execution_count": null,
   "metadata": {},
   "outputs": [],
   "source": []
  }
 ],
 "metadata": {
  "kernelspec": {
   "display_name": "Python 3",
   "language": "python",
   "name": "python3"
  },
  "language_info": {
   "codemirror_mode": {
    "name": "ipython",
    "version": 3
   },
   "file_extension": ".py",
   "mimetype": "text/x-python",
   "name": "python",
   "nbconvert_exporter": "python",
   "pygments_lexer": "ipython3",
   "version": "3.6.8"
  }
 },
 "nbformat": 4,
 "nbformat_minor": 2
}
